{
    "cells": [
        {
            "cell_type": "markdown",
            "metadata": {},
            "source": "<img src = \"https://raw.githubusercontent.com/PauliBCN/Capstone/master/Toronto.JPG\" width = 350>\n<h1 align=center><font size = 5>Toronto</font></h1>"
        },
        {
            "cell_type": "code",
            "execution_count": 6,
            "metadata": {},
            "outputs": [],
            "source": "import requests\nimport lxml.html as lh\nimport pandas as pd"
        },
        {
            "cell_type": "code",
            "execution_count": 7,
            "metadata": {},
            "outputs": [
                {
                    "data": {
                        "text/html": "<div>\n<style scoped>\n    .dataframe tbody tr th:only-of-type {\n        vertical-align: middle;\n    }\n\n    .dataframe tbody tr th {\n        vertical-align: top;\n    }\n\n    .dataframe thead th {\n        text-align: right;\n    }\n</style>\n<table border=\"1\" class=\"dataframe\">\n  <thead>\n    <tr style=\"text-align: right;\">\n      <th></th>\n      <th>Postcode</th>\n      <th>Borough</th>\n      <th>Neighborhood</th>\n    </tr>\n  </thead>\n  <tbody>\n    <tr>\n      <th>0</th>\n      <td>M1A</td>\n      <td>Not assigned</td>\n      <td>Not assigned</td>\n    </tr>\n    <tr>\n      <th>1</th>\n      <td>M2A</td>\n      <td>Not assigned</td>\n      <td>Not assigned</td>\n    </tr>\n    <tr>\n      <th>2</th>\n      <td>M3A</td>\n      <td>North York</td>\n      <td>Parkwoods</td>\n    </tr>\n    <tr>\n      <th>3</th>\n      <td>M4A</td>\n      <td>North York</td>\n      <td>Victoria Village</td>\n    </tr>\n    <tr>\n      <th>4</th>\n      <td>M5A</td>\n      <td>Downtown Toronto</td>\n      <td>Harbourfront</td>\n    </tr>\n  </tbody>\n</table>\n</div>",
                        "text/plain": "  Postcode           Borough      Neighborhood\n0      M1A      Not assigned      Not assigned\n1      M2A      Not assigned      Not assigned\n2      M3A        North York         Parkwoods\n3      M4A        North York  Victoria Village\n4      M5A  Downtown Toronto      Harbourfront"
                    },
                    "execution_count": 7,
                    "metadata": {},
                    "output_type": "execute_result"
                }
            ],
            "source": "df = pd.read_html('https://en.wikipedia.org/wiki/List_of_postal_codes_of_Canada:_M', header=0)\ndf[0].head()"
        },
        {
            "cell_type": "code",
            "execution_count": 8,
            "metadata": {},
            "outputs": [
                {
                    "data": {
                        "text/html": "<div>\n<style scoped>\n    .dataframe tbody tr th:only-of-type {\n        vertical-align: middle;\n    }\n\n    .dataframe tbody tr th {\n        vertical-align: top;\n    }\n\n    .dataframe thead th {\n        text-align: right;\n    }\n</style>\n<table border=\"1\" class=\"dataframe\">\n  <thead>\n    <tr style=\"text-align: right;\">\n      <th></th>\n      <th>Postcode</th>\n      <th>Borough</th>\n      <th>Neighborhood</th>\n    </tr>\n  </thead>\n  <tbody>\n    <tr>\n      <th>2</th>\n      <td>M3A</td>\n      <td>North York</td>\n      <td>Parkwoods</td>\n    </tr>\n    <tr>\n      <th>3</th>\n      <td>M4A</td>\n      <td>North York</td>\n      <td>Victoria Village</td>\n    </tr>\n    <tr>\n      <th>4</th>\n      <td>M5A</td>\n      <td>Downtown Toronto</td>\n      <td>Harbourfront</td>\n    </tr>\n    <tr>\n      <th>5</th>\n      <td>M6A</td>\n      <td>North York</td>\n      <td>Lawrence Heights</td>\n    </tr>\n    <tr>\n      <th>6</th>\n      <td>M6A</td>\n      <td>North York</td>\n      <td>Lawrence Manor</td>\n    </tr>\n    <tr>\n      <th>7</th>\n      <td>M7A</td>\n      <td>Downtown Toronto</td>\n      <td>Queen's Park</td>\n    </tr>\n    <tr>\n      <th>9</th>\n      <td>M9A</td>\n      <td>Queen's Park</td>\n      <td>Queen's Park</td>\n    </tr>\n    <tr>\n      <th>10</th>\n      <td>M1B</td>\n      <td>Scarborough</td>\n      <td>Rouge</td>\n    </tr>\n    <tr>\n      <th>11</th>\n      <td>M1B</td>\n      <td>Scarborough</td>\n      <td>Malvern</td>\n    </tr>\n    <tr>\n      <th>13</th>\n      <td>M3B</td>\n      <td>North York</td>\n      <td>Don Mills North</td>\n    </tr>\n  </tbody>\n</table>\n</div>",
                        "text/plain": "   Postcode           Borough      Neighborhood\n2       M3A        North York         Parkwoods\n3       M4A        North York  Victoria Village\n4       M5A  Downtown Toronto      Harbourfront\n5       M6A        North York  Lawrence Heights\n6       M6A        North York    Lawrence Manor\n7       M7A  Downtown Toronto      Queen's Park\n9       M9A      Queen's Park      Queen's Park\n10      M1B       Scarborough             Rouge\n11      M1B       Scarborough           Malvern\n13      M3B        North York   Don Mills North"
                    },
                    "execution_count": 8,
                    "metadata": {},
                    "output_type": "execute_result"
                }
            ],
            "source": "df2 = df[0]\ndf2 = df2[df2.Borough != 'Not assigned']\nfor i, row in df2.iterrows():\n    if row['Neighborhood'] == 'Not assigned':\n        row['Neighborhood'] = row['Borough']\ndf2.head(10)"
        },
        {
            "cell_type": "code",
            "execution_count": 9,
            "metadata": {},
            "outputs": [
                {
                    "data": {
                        "text/html": "<div>\n<style scoped>\n    .dataframe tbody tr th:only-of-type {\n        vertical-align: middle;\n    }\n\n    .dataframe tbody tr th {\n        vertical-align: top;\n    }\n\n    .dataframe thead th {\n        text-align: right;\n    }\n</style>\n<table border=\"1\" class=\"dataframe\">\n  <thead>\n    <tr style=\"text-align: right;\">\n      <th></th>\n      <th>Postcode</th>\n      <th>Neighborhood</th>\n    </tr>\n  </thead>\n  <tbody>\n    <tr>\n      <th>0</th>\n      <td>M1B</td>\n      <td>Rouge,Malvern</td>\n    </tr>\n    <tr>\n      <th>1</th>\n      <td>M1C</td>\n      <td>Highland Creek,Rouge Hill,Port Union</td>\n    </tr>\n    <tr>\n      <th>2</th>\n      <td>M1E</td>\n      <td>Guildwood,Morningside,West Hill</td>\n    </tr>\n    <tr>\n      <th>3</th>\n      <td>M1G</td>\n      <td>Woburn</td>\n    </tr>\n    <tr>\n      <th>4</th>\n      <td>M1H</td>\n      <td>Cedarbrae</td>\n    </tr>\n    <tr>\n      <th>5</th>\n      <td>M1J</td>\n      <td>Scarborough Village</td>\n    </tr>\n    <tr>\n      <th>6</th>\n      <td>M1K</td>\n      <td>East Birchmount Park,Ionview,Kennedy Park</td>\n    </tr>\n    <tr>\n      <th>7</th>\n      <td>M1L</td>\n      <td>Clairlea,Golden Mile,Oakridge</td>\n    </tr>\n    <tr>\n      <th>8</th>\n      <td>M1M</td>\n      <td>Cliffcrest,Cliffside,Scarborough Village West</td>\n    </tr>\n    <tr>\n      <th>9</th>\n      <td>M1N</td>\n      <td>Birch Cliff,Cliffside West</td>\n    </tr>\n  </tbody>\n</table>\n</div>",
                        "text/plain": "  Postcode                                   Neighborhood\n0      M1B                                  Rouge,Malvern\n1      M1C           Highland Creek,Rouge Hill,Port Union\n2      M1E                Guildwood,Morningside,West Hill\n3      M1G                                         Woburn\n4      M1H                                      Cedarbrae\n5      M1J                            Scarborough Village\n6      M1K      East Birchmount Park,Ionview,Kennedy Park\n7      M1L                  Clairlea,Golden Mile,Oakridge\n8      M1M  Cliffcrest,Cliffside,Scarborough Village West\n9      M1N                     Birch Cliff,Cliffside West"
                    },
                    "execution_count": 9,
                    "metadata": {},
                    "output_type": "execute_result"
                }
            ],
            "source": "#df3=df2['Postcode','Borough','Neighborhood']\ndf3=df2.groupby(\"Postcode\")[\"Neighborhood\"].agg(\",\".join).reset_index(name='new')\ndf3 = df3.rename(columns={'new':'Neighborhood'})\ndf3.head(10)"
        },
        {
            "cell_type": "code",
            "execution_count": 39,
            "metadata": {},
            "outputs": [
                {
                    "data": {
                        "text/plain": "Postcode        103\nNeighborhood    103\ndtype: int64"
                    },
                    "execution_count": 39,
                    "metadata": {},
                    "output_type": "execute_result"
                }
            ],
            "source": "df3.count()"
        },
        {
            "cell_type": "code",
            "execution_count": 33,
            "metadata": {},
            "outputs": [],
            "source": "# The code was removed by Watson Studio for sharing."
        },
        {
            "cell_type": "code",
            "execution_count": 57,
            "metadata": {},
            "outputs": [
                {
                    "data": {
                        "text/html": "<div>\n<style scoped>\n    .dataframe tbody tr th:only-of-type {\n        vertical-align: middle;\n    }\n\n    .dataframe tbody tr th {\n        vertical-align: top;\n    }\n\n    .dataframe thead th {\n        text-align: right;\n    }\n</style>\n<table border=\"1\" class=\"dataframe\">\n  <thead>\n    <tr style=\"text-align: right;\">\n      <th></th>\n      <th>Latitude</th>\n      <th>Longitude</th>\n      <th>Postcode</th>\n      <th>Neighborhood</th>\n    </tr>\n  </thead>\n  <tbody>\n    <tr>\n      <th>0</th>\n      <td>43.806686</td>\n      <td>-79.194353</td>\n      <td>M1B</td>\n      <td>Rouge,Malvern</td>\n    </tr>\n    <tr>\n      <th>1</th>\n      <td>43.784535</td>\n      <td>-79.160497</td>\n      <td>M1C</td>\n      <td>Highland Creek,Rouge Hill,Port Union</td>\n    </tr>\n    <tr>\n      <th>2</th>\n      <td>43.763573</td>\n      <td>-79.188711</td>\n      <td>M1E</td>\n      <td>Guildwood,Morningside,West Hill</td>\n    </tr>\n    <tr>\n      <th>3</th>\n      <td>43.770992</td>\n      <td>-79.216917</td>\n      <td>M1G</td>\n      <td>Woburn</td>\n    </tr>\n    <tr>\n      <th>4</th>\n      <td>43.773136</td>\n      <td>-79.239476</td>\n      <td>M1H</td>\n      <td>Cedarbrae</td>\n    </tr>\n  </tbody>\n</table>\n</div>",
                        "text/plain": "    Latitude  Longitude Postcode                          Neighborhood\n0  43.806686 -79.194353      M1B                         Rouge,Malvern\n1  43.784535 -79.160497      M1C  Highland Creek,Rouge Hill,Port Union\n2  43.763573 -79.188711      M1E       Guildwood,Morningside,West Hill\n3  43.770992 -79.216917      M1G                                Woburn\n4  43.773136 -79.239476      M1H                             Cedarbrae"
                    },
                    "execution_count": 57,
                    "metadata": {},
                    "output_type": "execute_result"
                }
            ],
            "source": "df_col = pd.concat([df_coord,df3], axis=1)\ndf_col=df_col.drop(['Postal Code'], axis=1)\ndf_col.head()\n#es la mejor evrsion"
        },
        {
            "cell_type": "code",
            "execution_count": 55,
            "metadata": {},
            "outputs": [
                {
                    "data": {
                        "text/plain": "Postal Code     103\nLatitude        103\nLongitude       103\nNeighborhood    103\ndtype: int64"
                    },
                    "execution_count": 55,
                    "metadata": {},
                    "output_type": "execute_result"
                }
            ],
            "source": "df_col.count()"
        },
        {
            "cell_type": "code",
            "execution_count": 50,
            "metadata": {},
            "outputs": [
                {
                    "data": {
                        "text/html": "<div>\n<style scoped>\n    .dataframe tbody tr th:only-of-type {\n        vertical-align: middle;\n    }\n\n    .dataframe tbody tr th {\n        vertical-align: top;\n    }\n\n    .dataframe thead th {\n        text-align: right;\n    }\n</style>\n<table border=\"1\" class=\"dataframe\">\n  <thead>\n    <tr style=\"text-align: right;\">\n      <th></th>\n      <th>Postcode</th>\n      <th>Borough</th>\n    </tr>\n  </thead>\n  <tbody>\n    <tr>\n      <th>2</th>\n      <td>M3A</td>\n      <td>North York</td>\n    </tr>\n    <tr>\n      <th>3</th>\n      <td>M4A</td>\n      <td>North York</td>\n    </tr>\n    <tr>\n      <th>4</th>\n      <td>M5A</td>\n      <td>Downtown Toronto</td>\n    </tr>\n    <tr>\n      <th>5</th>\n      <td>M6A</td>\n      <td>North York</td>\n    </tr>\n    <tr>\n      <th>6</th>\n      <td>M6A</td>\n      <td>North York</td>\n    </tr>\n  </tbody>\n</table>\n</div>",
                        "text/plain": "  Postcode           Borough\n2      M3A        North York\n3      M4A        North York\n4      M5A  Downtown Toronto\n5      M6A        North York\n6      M6A        North York"
                    },
                    "execution_count": 50,
                    "metadata": {},
                    "output_type": "execute_result"
                }
            ],
            "source": "df4=df2\ndf4=df4.drop(['Neighborhood'], axis=1)\ndf4 = df4[df4.Borough != 'NaN']\ndf4.head()\n#ok"
        },
        {
            "cell_type": "code",
            "execution_count": 62,
            "metadata": {},
            "outputs": [
                {
                    "data": {
                        "text/html": "<div>\n<style scoped>\n    .dataframe tbody tr th:only-of-type {\n        vertical-align: middle;\n    }\n\n    .dataframe tbody tr th {\n        vertical-align: top;\n    }\n\n    .dataframe thead th {\n        text-align: right;\n    }\n</style>\n<table border=\"1\" class=\"dataframe\">\n  <thead>\n    <tr style=\"text-align: right;\">\n      <th></th>\n      <th>Latitude</th>\n      <th>Longitude</th>\n      <th>Postcode</th>\n      <th>Neighborhood</th>\n    </tr>\n  </thead>\n  <tbody>\n    <tr>\n      <th>0</th>\n      <td>43.806686</td>\n      <td>-79.194353</td>\n      <td>M1B</td>\n      <td>Rouge,Malvern</td>\n    </tr>\n    <tr>\n      <th>1</th>\n      <td>43.784535</td>\n      <td>-79.160497</td>\n      <td>M1C</td>\n      <td>Highland Creek,Rouge Hill,Port Union</td>\n    </tr>\n    <tr>\n      <th>2</th>\n      <td>43.763573</td>\n      <td>-79.188711</td>\n      <td>M1E</td>\n      <td>Guildwood,Morningside,West Hill</td>\n    </tr>\n    <tr>\n      <th>3</th>\n      <td>43.770992</td>\n      <td>-79.216917</td>\n      <td>M1G</td>\n      <td>Woburn</td>\n    </tr>\n    <tr>\n      <th>4</th>\n      <td>43.773136</td>\n      <td>-79.239476</td>\n      <td>M1H</td>\n      <td>Cedarbrae</td>\n    </tr>\n  </tbody>\n</table>\n</div>",
                        "text/plain": "    Latitude  Longitude Postcode                          Neighborhood\n0  43.806686 -79.194353      M1B                         Rouge,Malvern\n1  43.784535 -79.160497      M1C  Highland Creek,Rouge Hill,Port Union\n2  43.763573 -79.188711      M1E       Guildwood,Morningside,West Hill\n3  43.770992 -79.216917      M1G                                Woburn\n4  43.773136 -79.239476      M1H                             Cedarbrae"
                    },
                    "execution_count": 62,
                    "metadata": {},
                    "output_type": "execute_result"
                }
            ],
            "source": "df_final=df_col\nde_final=df_final.merge(df4, how='left')\ndf_final.head()\n#no agrega borou"
        },
        {
            "cell_type": "code",
            "execution_count": 71,
            "metadata": {},
            "outputs": [
                {
                    "data": {
                        "text/html": "<div>\n<style scoped>\n    .dataframe tbody tr th:only-of-type {\n        vertical-align: middle;\n    }\n\n    .dataframe tbody tr th {\n        vertical-align: top;\n    }\n\n    .dataframe thead th {\n        text-align: right;\n    }\n</style>\n<table border=\"1\" class=\"dataframe\">\n  <thead>\n    <tr style=\"text-align: right;\">\n      <th></th>\n      <th>Latitude</th>\n      <th>Longitude</th>\n      <th>Postcode</th>\n      <th>Neighborhood</th>\n    </tr>\n  </thead>\n  <tbody>\n    <tr>\n      <th>0</th>\n      <td>43.806686</td>\n      <td>-79.194353</td>\n      <td>M1B</td>\n      <td>Rouge,Malvern</td>\n    </tr>\n    <tr>\n      <th>1</th>\n      <td>43.784535</td>\n      <td>-79.160497</td>\n      <td>M1C</td>\n      <td>Highland Creek,Rouge Hill,Port Union</td>\n    </tr>\n    <tr>\n      <th>2</th>\n      <td>43.763573</td>\n      <td>-79.188711</td>\n      <td>M1E</td>\n      <td>Guildwood,Morningside,West Hill</td>\n    </tr>\n    <tr>\n      <th>3</th>\n      <td>43.770992</td>\n      <td>-79.216917</td>\n      <td>M1G</td>\n      <td>Woburn</td>\n    </tr>\n    <tr>\n      <th>4</th>\n      <td>43.773136</td>\n      <td>-79.239476</td>\n      <td>M1H</td>\n      <td>Cedarbrae</td>\n    </tr>\n  </tbody>\n</table>\n</div>",
                        "text/plain": "    Latitude  Longitude Postcode                          Neighborhood\n0  43.806686 -79.194353      M1B                         Rouge,Malvern\n1  43.784535 -79.160497      M1C  Highland Creek,Rouge Hill,Port Union\n2  43.763573 -79.188711      M1E       Guildwood,Morningside,West Hill\n3  43.770992 -79.216917      M1G                                Woburn\n4  43.773136 -79.239476      M1H                             Cedarbrae"
                    },
                    "execution_count": 71,
                    "metadata": {},
                    "output_type": "execute_result"
                }
            ],
            "source": "dfproj=pd.DataFrame(df_final)\ndfproj.head()"
        },
        {
            "cell_type": "code",
            "execution_count": 74,
            "metadata": {},
            "outputs": [
                {
                    "data": {
                        "text/html": "<div>\n<style scoped>\n    .dataframe tbody tr th:only-of-type {\n        vertical-align: middle;\n    }\n\n    .dataframe tbody tr th {\n        vertical-align: top;\n    }\n\n    .dataframe thead th {\n        text-align: right;\n    }\n</style>\n<table border=\"1\" class=\"dataframe\">\n  <thead>\n    <tr style=\"text-align: right;\">\n      <th></th>\n      <th>Latitude</th>\n      <th>Longitude</th>\n      <th>Postcode</th>\n      <th>Neighborhood</th>\n      <th>Borough</th>\n    </tr>\n  </thead>\n  <tbody>\n    <tr>\n      <th>0</th>\n      <td>43.806686</td>\n      <td>-79.194353</td>\n      <td>M1B</td>\n      <td>Rouge,Malvern</td>\n      <td>Scarborough</td>\n    </tr>\n    <tr>\n      <th>1</th>\n      <td>43.806686</td>\n      <td>-79.194353</td>\n      <td>M1B</td>\n      <td>Rouge,Malvern</td>\n      <td>Scarborough</td>\n    </tr>\n    <tr>\n      <th>2</th>\n      <td>43.784535</td>\n      <td>-79.160497</td>\n      <td>M1C</td>\n      <td>Highland Creek,Rouge Hill,Port Union</td>\n      <td>Scarborough</td>\n    </tr>\n    <tr>\n      <th>3</th>\n      <td>43.784535</td>\n      <td>-79.160497</td>\n      <td>M1C</td>\n      <td>Highland Creek,Rouge Hill,Port Union</td>\n      <td>Scarborough</td>\n    </tr>\n    <tr>\n      <th>4</th>\n      <td>43.784535</td>\n      <td>-79.160497</td>\n      <td>M1C</td>\n      <td>Highland Creek,Rouge Hill,Port Union</td>\n      <td>Scarborough</td>\n    </tr>\n  </tbody>\n</table>\n</div>",
                        "text/plain": "    Latitude  Longitude Postcode                          Neighborhood  \\\n0  43.806686 -79.194353      M1B                         Rouge,Malvern   \n1  43.806686 -79.194353      M1B                         Rouge,Malvern   \n2  43.784535 -79.160497      M1C  Highland Creek,Rouge Hill,Port Union   \n3  43.784535 -79.160497      M1C  Highland Creek,Rouge Hill,Port Union   \n4  43.784535 -79.160497      M1C  Highland Creek,Rouge Hill,Port Union   \n\n       Borough  \n0  Scarborough  \n1  Scarborough  \n2  Scarborough  \n3  Scarborough  \n4  Scarborough  "
                    },
                    "execution_count": 74,
                    "metadata": {},
                    "output_type": "execute_result"
                }
            ],
            "source": "df9=dfproj\ndf9=df9.merge(df4, how='left')\ndf9.head()"
        },
        {
            "cell_type": "code",
            "execution_count": 83,
            "metadata": {},
            "outputs": [
                {
                    "data": {
                        "text/html": "<div>\n<style scoped>\n    .dataframe tbody tr th:only-of-type {\n        vertical-align: middle;\n    }\n\n    .dataframe tbody tr th {\n        vertical-align: top;\n    }\n\n    .dataframe thead th {\n        text-align: right;\n    }\n</style>\n<table border=\"1\" class=\"dataframe\">\n  <thead>\n    <tr style=\"text-align: right;\">\n      <th></th>\n      <th>Latitude</th>\n      <th>Longitude</th>\n      <th>Postcode</th>\n      <th>Neighborhood</th>\n      <th>Borough</th>\n    </tr>\n  </thead>\n  <tbody>\n    <tr>\n      <th>1</th>\n      <td>43.806686</td>\n      <td>-79.194353</td>\n      <td>M1B</td>\n      <td>Rouge,Malvern</td>\n      <td>Scarborough</td>\n    </tr>\n    <tr>\n      <th>4</th>\n      <td>43.784535</td>\n      <td>-79.160497</td>\n      <td>M1C</td>\n      <td>Highland Creek,Rouge Hill,Port Union</td>\n      <td>Scarborough</td>\n    </tr>\n    <tr>\n      <th>7</th>\n      <td>43.763573</td>\n      <td>-79.188711</td>\n      <td>M1E</td>\n      <td>Guildwood,Morningside,West Hill</td>\n      <td>Scarborough</td>\n    </tr>\n    <tr>\n      <th>8</th>\n      <td>43.770992</td>\n      <td>-79.216917</td>\n      <td>M1G</td>\n      <td>Woburn</td>\n      <td>Scarborough</td>\n    </tr>\n    <tr>\n      <th>9</th>\n      <td>43.773136</td>\n      <td>-79.239476</td>\n      <td>M1H</td>\n      <td>Cedarbrae</td>\n      <td>Scarborough</td>\n    </tr>\n  </tbody>\n</table>\n</div>",
                        "text/plain": "    Latitude  Longitude Postcode                          Neighborhood  \\\n1  43.806686 -79.194353      M1B                         Rouge,Malvern   \n4  43.784535 -79.160497      M1C  Highland Creek,Rouge Hill,Port Union   \n7  43.763573 -79.188711      M1E       Guildwood,Morningside,West Hill   \n8  43.770992 -79.216917      M1G                                Woburn   \n9  43.773136 -79.239476      M1H                             Cedarbrae   \n\n       Borough  \n1  Scarborough  \n4  Scarborough  \n7  Scarborough  \n8  Scarborough  \n9  Scarborough  "
                    },
                    "execution_count": 83,
                    "metadata": {},
                    "output_type": "execute_result"
                }
            ],
            "source": "df10 = df9.drop_duplicates(keep=\"last\")\ndf10.head()\n#count()"
        }
    ],
    "metadata": {
        "kernelspec": {
            "display_name": "Python 3.6",
            "language": "python",
            "name": "python3"
        },
        "language_info": {
            "codemirror_mode": {
                "name": "ipython",
                "version": 3
            },
            "file_extension": ".py",
            "mimetype": "text/x-python",
            "name": "python",
            "nbconvert_exporter": "python",
            "pygments_lexer": "ipython3",
            "version": "3.6.8"
        }
    },
    "nbformat": 4,
    "nbformat_minor": 1
}